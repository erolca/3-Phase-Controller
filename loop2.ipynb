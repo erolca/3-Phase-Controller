{
  "nbformat": 4,
  "nbformat_minor": 0,
  "metadata": {
    "colab": {
      "name": "Untitled2.ipynb adlı not defterinin kopyası",
      "provenance": [],
      "collapsed_sections": [],
      "toc_visible": true,
      "authorship_tag": "ABX9TyMpyIODaTvdy2XXLfxV4P18",
      "include_colab_link": true
    },
    "kernelspec": {
      "name": "python3",
      "display_name": "Python 3"
    }
  },
  "cells": [
    {
      "cell_type": "markdown",
      "metadata": {
        "id": "view-in-github",
        "colab_type": "text"
      },
      "source": [
        "<a href=\"https://colab.research.google.com/github/erolca/3-Phase-Controller/blob/master/loop2.ipynb\" target=\"_parent\"><img src=\"https://colab.research.google.com/assets/colab-badge.svg\" alt=\"Open In Colab\"/></a>"
      ]
    },
    {
      "cell_type": "code",
      "metadata": {
        "id": "3sO30q0WyLxl"
      },
      "source": [
        "#Python 3 - IF Statement"
      ],
      "execution_count": null,
      "outputs": []
    },
    {
      "cell_type": "markdown",
      "metadata": {
        "id": "-cK1CByTyVf-"
      },
      "source": [
        "# Python 3 - IF Statement"
      ]
    },
    {
      "cell_type": "code",
      "metadata": {
        "colab": {
          "base_uri": "https://localhost:8080/"
        },
        "id": "Ikpwb7Aryf02",
        "outputId": "a48c6820-3dbd-4e9b-c328-f2f7e1499aa9"
      },
      "source": [
        "#!/usr/bin/python3\r\n",
        "#Python programming language assumes any non-zero and non-null values as TRUE, \r\n",
        "# and any zero or null values as FALSE value.\r\n",
        "var1 = 100\r\n",
        "if var1:\r\n",
        "   print (\"1 - Got a true expression value\")\r\n",
        "   print (var1)\r\n",
        "\r\n",
        "var2 = 0\r\n",
        "if var2:\r\n",
        "   print (\"2 - Got a true expression value\")\r\n",
        "   print (var2)\r\n",
        "print (\"Good bye!\")\r\n",
        "\r\n",
        "\r\n",
        "var=100\r\n",
        "if(var==10): print(\" value of expression is 100\" )"
      ],
      "execution_count": null,
      "outputs": [
        {
          "output_type": "stream",
          "text": [
            "1 - Got a true expression value\n",
            "100\n",
            "Good bye!\n"
          ],
          "name": "stdout"
        }
      ]
    },
    {
      "cell_type": "code",
      "metadata": {
        "colab": {
          "base_uri": "https://localhost:8080/"
        },
        "id": "8SHYmgSaH_dr",
        "outputId": "78325c4c-a702-4a05-880c-cd3ee324afa0"
      },
      "source": [
        "#!/usr/bin/python3\r\n",
        "fruits = [\"apple\", \"banana\", \"cherry\"]\r\n",
        "for x in fruits:\r\n",
        "  if x == \"banana\":\r\n",
        "    continue\r\n",
        "  print(x) "
      ],
      "execution_count": 7,
      "outputs": [
        {
          "output_type": "stream",
          "text": [
            "apple\n",
            "cherry\n"
          ],
          "name": "stdout"
        }
      ]
    },
    {
      "cell_type": "markdown",
      "metadata": {
        "id": "3ie6TVnBCHXH"
      },
      "source": [
        "# Python 3 - Loops"
      ]
    },
    {
      "cell_type": "code",
      "metadata": {
        "id": "hJLqlXYbCL2a"
      },
      "source": [
        "#Python 3 - while Loop Statements\r\n",
        "#!/usr/bin/python3\r\n",
        "\r\n",
        "count = 0\r\n",
        "while (count < 9):\r\n",
        "   print ('The count is:', count)\r\n",
        "   count = count + 1\r\n",
        "\r\n",
        "print (\"Good bye!\")"
      ],
      "execution_count": null,
      "outputs": []
    },
    {
      "cell_type": "code",
      "metadata": {
        "id": "a5DayZbLErWv"
      },
      "source": [
        "#The Infinite Loop\r\n",
        "#!/usr/bin/python3\r\n",
        "\r\n",
        "var = 1\r\n",
        "while var == 1 :  # This constructs an infinite loop\r\n",
        "   num = int(input(\"Enter a number  :\"))\r\n",
        "   print (\"You entered: \", num)\r\n",
        "\r\n",
        "print (\"Good bye!\")"
      ],
      "execution_count": null,
      "outputs": []
    },
    {
      "cell_type": "code",
      "metadata": {
        "id": "AO_8_-1-FQKJ"
      },
      "source": [
        "#Using else Statement with Loops\r\n",
        "#!/usr/bin/python3\r\n",
        "\r\n",
        "count = 0\r\n",
        "while count < 5:\r\n",
        "   print (count, \" is  less than 5\")\r\n",
        "   count = count + 1\r\n",
        "else:\r\n",
        "   print (count, \" is not less than 5\")"
      ],
      "execution_count": null,
      "outputs": []
    },
    {
      "cell_type": "markdown",
      "metadata": {
        "id": "tJFq-9jJGXeX"
      },
      "source": [
        "# Python 3 - for Loop Statements"
      ]
    },
    {
      "cell_type": "code",
      "metadata": {
        "colab": {
          "base_uri": "https://localhost:8080/"
        },
        "id": "5ZlAhZwIGchS",
        "outputId": "51692824-185e-418b-8668-20454d327f6d"
      },
      "source": [
        "#The range() function\r\n",
        "range(5)\r\n",
        "list(range(5))\r\n",
        "for var in list(range(5)):\r\n",
        "   print (var)"
      ],
      "execution_count": 3,
      "outputs": [
        {
          "output_type": "stream",
          "text": [
            "0\n",
            "1\n",
            "2\n",
            "3\n",
            "4\n"
          ],
          "name": "stdout"
        }
      ]
    },
    {
      "cell_type": "code",
      "metadata": {
        "colab": {
          "base_uri": "https://localhost:8080/"
        },
        "id": "S6SJHgd5GwPo",
        "outputId": "76dd605c-ef6a-4a17-ef65-34b556c69d98"
      },
      "source": [
        "#!/usr/bin/python3\r\n",
        "\r\n",
        "for letter in 'Python':     # traversal of a string sequence\r\n",
        "   print ('Current Letter :', letter)\r\n",
        "print()\r\n",
        "fruits = ['banana', 'apple',  'mango']\r\n",
        "\r\n",
        "for fruit in fruits:        # traversal of List sequence\r\n",
        "   print ('Current fruit :', fruit)\r\n",
        "\r\n",
        "print (\"Good bye!\")"
      ],
      "execution_count": 4,
      "outputs": [
        {
          "output_type": "stream",
          "text": [
            "Current Letter : P\n",
            "Current Letter : y\n",
            "Current Letter : t\n",
            "Current Letter : h\n",
            "Current Letter : o\n",
            "Current Letter : n\n",
            "\n",
            "Current fruit : banana\n",
            "Current fruit : apple\n",
            "Current fruit : mango\n",
            "Good bye!\n"
          ],
          "name": "stdout"
        }
      ]
    },
    {
      "cell_type": "code",
      "metadata": {
        "colab": {
          "base_uri": "https://localhost:8080/"
        },
        "id": "MmZmpuz-G7me",
        "outputId": "b55135b0-e64a-4767-ea36-057fea1a6df3"
      },
      "source": [
        "#!/usr/bin/python3\r\n",
        "#Iterating by Sequence Index\r\n",
        "#https://www.tutorialspoint.com/python3/python_for_loop.htm\r\n",
        "\r\n",
        "fruits = ['banana', 'apple',  'mango']\r\n",
        "for index in range(len(fruits)):\r\n",
        "   print ('Current fruit :', fruits[index])\r\n",
        "\r\n",
        "print (\"Good bye!\")"
      ],
      "execution_count": 9,
      "outputs": [
        {
          "output_type": "stream",
          "text": [
            "Current fruit : banana\n",
            "Current fruit : apple\n",
            "Current fruit : mango\n",
            "Good bye!\n"
          ],
          "name": "stdout"
        }
      ]
    },
    {
      "cell_type": "code",
      "metadata": {
        "colab": {
          "base_uri": "https://localhost:8080/"
        },
        "id": "9Gfsb-9SJAa-",
        "outputId": "17fba511-9479-4bdd-aeaa-914985c0b30d"
      },
      "source": [
        "#!/usr/bin/python3\r\n",
        "\r\n",
        "numbers = [11,33,55,39,55,75,37,21,23,41,13]\r\n",
        "\r\n",
        "for num in numbers:\r\n",
        "   if num%2 == 0:\r\n",
        "      print ('the list contains an even number')\r\n",
        "      break\r\n",
        "else:\r\n",
        "   print ('the list doesnot contain even number')"
      ],
      "execution_count": 10,
      "outputs": [
        {
          "output_type": "stream",
          "text": [
            "the list doesnot contain even number\n"
          ],
          "name": "stdout"
        }
      ]
    },
    {
      "cell_type": "code",
      "metadata": {
        "colab": {
          "base_uri": "https://localhost:8080/"
        },
        "id": "gufo0f5pHWC2",
        "outputId": "ebb5ee96-20de-483a-8dc6-dc4a0b9e088c"
      },
      "source": [
        "for sayı in range(1,20):\r\n",
        "    print(\"* \" * sayı)"
      ],
      "execution_count": 6,
      "outputs": [
        {
          "output_type": "stream",
          "text": [
            "* \n",
            "* * \n",
            "* * * \n",
            "* * * * \n",
            "* * * * * \n",
            "* * * * * * \n",
            "* * * * * * * \n",
            "* * * * * * * * \n",
            "* * * * * * * * * \n",
            "* * * * * * * * * * \n",
            "* * * * * * * * * * * \n",
            "* * * * * * * * * * * * \n",
            "* * * * * * * * * * * * * \n",
            "* * * * * * * * * * * * * * \n",
            "* * * * * * * * * * * * * * * \n",
            "* * * * * * * * * * * * * * * * \n",
            "* * * * * * * * * * * * * * * * * \n",
            "* * * * * * * * * * * * * * * * * * \n",
            "* * * * * * * * * * * * * * * * * * * \n"
          ],
          "name": "stdout"
        }
      ]
    }
  ]
}