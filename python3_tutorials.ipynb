{
  "nbformat": 4,
  "nbformat_minor": 0,
  "metadata": {
    "colab": {
      "name": "Untitled2.ipynb adlı not defterinin kopyası",
      "provenance": [],
      "collapsed_sections": [],
      "toc_visible": true,
      "authorship_tag": "ABX9TyNQLax874niuedoFDhTmtVj",
      "include_colab_link": true
    },
    "kernelspec": {
      "name": "python3",
      "display_name": "Python 3"
    }
  },
  "cells": [
    {
      "cell_type": "markdown",
      "metadata": {
        "id": "view-in-github",
        "colab_type": "text"
      },
      "source": [
        "<a href=\"https://colab.research.google.com/github/erolca/3-Phase-Controller/blob/master/python3_tutorials.ipynb\" target=\"_parent\"><img src=\"https://colab.research.google.com/assets/colab-badge.svg\" alt=\"Open In Colab\"/></a>"
      ]
    },
    {
      "cell_type": "code",
      "metadata": {
        "id": "3sO30q0WyLxl"
      },
      "source": [
        "#Python 3 - IF Statement"
      ],
      "execution_count": null,
      "outputs": []
    },
    {
      "cell_type": "markdown",
      "metadata": {
        "id": "-cK1CByTyVf-"
      },
      "source": [
        "# Python 3 - IF Statement"
      ]
    },
    {
      "cell_type": "code",
      "metadata": {
        "colab": {
          "base_uri": "https://localhost:8080/"
        },
        "id": "Ikpwb7Aryf02",
        "outputId": "a48c6820-3dbd-4e9b-c328-f2f7e1499aa9"
      },
      "source": [
        "#!/usr/bin/python3\r\n",
        "#Python programming language assumes any non-zero and non-null values as TRUE, \r\n",
        "# and any zero or null values as FALSE value.\r\n",
        "var1 = 100\r\n",
        "if var1:\r\n",
        "   print (\"1 - Got a true expression value\")\r\n",
        "   print (var1)\r\n",
        "\r\n",
        "var2 = 0\r\n",
        "if var2:\r\n",
        "   print (\"2 - Got a true expression value\")\r\n",
        "   print (var2)\r\n",
        "print (\"Good bye!\")\r\n",
        "\r\n",
        "\r\n",
        "var=100\r\n",
        "if(var==10): print(\" value of expression is 100\" )"
      ],
      "execution_count": null,
      "outputs": [
        {
          "output_type": "stream",
          "text": [
            "1 - Got a true expression value\n",
            "100\n",
            "Good bye!\n"
          ],
          "name": "stdout"
        }
      ]
    },
    {
      "cell_type": "markdown",
      "metadata": {
        "id": "3ie6TVnBCHXH"
      },
      "source": [
        "# Python 3 - Loops"
      ]
    },
    {
      "cell_type": "markdown",
      "metadata": {
        "id": "nPSsLHFFfWZ5"
      },
      "source": [
        ""
      ]
    },
    {
      "cell_type": "code",
      "metadata": {
        "colab": {
          "base_uri": "https://localhost:8080/"
        },
        "id": "hJLqlXYbCL2a",
        "outputId": "2a73a008-b368-4f33-b40c-4a884b8ffe95"
      },
      "source": [
        "#Python 3 - while Loop Statements\r\n",
        "#!/usr/bin/python3\r\n",
        "\r\n",
        "count = 0\r\n",
        "while (count < 9):\r\n",
        "   print ('The count is:', count)\r\n",
        "   count = count + 1\r\n",
        "\r\n",
        "print (\"Good bye!\")"
      ],
      "execution_count": null,
      "outputs": [
        {
          "output_type": "stream",
          "text": [
            "The count is: 0\n",
            "The count is: 1\n",
            "The count is: 2\n",
            "The count is: 3\n",
            "The count is: 4\n",
            "The count is: 5\n",
            "The count is: 6\n",
            "The count is: 7\n",
            "The count is: 8\n",
            "Good bye!\n"
          ],
          "name": "stdout"
        }
      ]
    },
    {
      "cell_type": "markdown",
      "metadata": {
        "id": "ZTrheCOCfs0h"
      },
      "source": [
        "\r\n",
        "\r\n",
        "```\r\n",
        "# Bu, kod olarak biçimlendirilmiştir\r\n",
        "```\r\n",
        "\r\n",
        "# Python 3 - Class\r\n"
      ]
    },
    {
      "cell_type": "code",
      "metadata": {
        "id": "_QqSAn-YfxPt"
      },
      "source": [
        "#!/usr/bin/python3\r\n",
        "\r\n",
        "class Insan:\r\n",
        "    adi = \"ali\"\r\n",
        "    soyadi = \"goren\"\r\n",
        "    yasi = 24\r\n",
        "    country = \"tr\"\r\n",
        "class Bilgi(Insan):\r\n",
        "    \r\n",
        "    def bilgiyaz(cls):\r\n",
        "        print(cls.adi, cls.soyadi, str(cls.yasi), cls.country, cls)\r\n"
      ],
      "execution_count": null,
      "outputs": []
    },
    {
      "cell_type": "code",
      "metadata": {
        "id": "oI9bX9cJgAJf",
        "colab": {
          "base_uri": "https://localhost:8080/"
        },
        "outputId": "b289f723-5a43-419f-c4b3-b46b29c30750"
      },
      "source": [
        "Insan.bilgiyaz = classmethod(Bilgi.bilgiyaz)\r\n",
        "Insan.bilgiyaz()"
      ],
      "execution_count": null,
      "outputs": [
        {
          "output_type": "stream",
          "text": [
            "ali goren 24 tr <class '__main__.Insan'>\n"
          ],
          "name": "stdout"
        }
      ]
    },
    {
      "cell_type": "code",
      "metadata": {
        "id": "Qqhuyk1nguf2",
        "colab": {
          "base_uri": "https://localhost:8080/"
        },
        "outputId": "4916d06d-b78f-48ad-f403-a50cdd6e957d"
      },
      "source": [
        "class Test:\r\n",
        "    def yaz(cls, isim):\r\n",
        "        print(cls, isim)\r\n",
        "        \r\n",
        "Test.yaz = classmethod(Test.yaz)\r\n",
        "Test.yaz(\"Ali\")"
      ],
      "execution_count": null,
      "outputs": [
        {
          "output_type": "stream",
          "text": [
            "<class '__main__.Test'> Ali\n"
          ],
          "name": "stdout"
        }
      ]
    },
    {
      "cell_type": "code",
      "metadata": {
        "id": "ifM_HPUknILK"
      },
      "source": [
        "class person\r\n",
        "    age=25\r\n",
        "    def printAge(cls):\r\n",
        "      \r\n",
        "\r\n"
      ],
      "execution_count": null,
      "outputs": []
    },
    {
      "cell_type": "code",
      "metadata": {
        "id": "M8WrjQz3rLs2"
      },
      "source": [
        "from datetime import date\r\n",
        "\r\n",
        "# random Person\r\n",
        "class Person:\r\n",
        "    def __init__(self, name, age):\r\n",
        "        self.name = name\r\n",
        "        self.age = age\r\n",
        "\r\n",
        "    @classmethod\r\n",
        "    def fromBirthYear(cls, name, birthYear):\r\n",
        "        return cls(name, date.today().year - birthYear)\r\n",
        "\r\n",
        "    def display(self):\r\n",
        "        print(self.name + \"'s age is: \" + str(self.age))\r\n",
        "\r\n",
        "person = Person('Adam', 19)\r\n",
        "person.display()\r\n",
        "\r\n",
        "person1 = Person.fromBirthYear('John',  1985)\r\n",
        "person1.display()"
      ],
      "execution_count": null,
      "outputs": []
    }
  ]
}