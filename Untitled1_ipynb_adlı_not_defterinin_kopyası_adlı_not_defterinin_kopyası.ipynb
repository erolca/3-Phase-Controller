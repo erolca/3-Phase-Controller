{
  "nbformat": 4,
  "nbformat_minor": 0,
  "metadata": {
    "colab": {
      "name": "Untitled1.ipynb adlı not defterinin kopyası adlı not defterinin kopyası",
      "provenance": [],
      "collapsed_sections": [],
      "authorship_tag": "ABX9TyO1rPrJEZwzBM61Pswmtpej",
      "include_colab_link": true
    },
    "kernelspec": {
      "name": "python3",
      "display_name": "Python 3"
    }
  },
  "cells": [
    {
      "cell_type": "markdown",
      "metadata": {
        "id": "view-in-github",
        "colab_type": "text"
      },
      "source": [
        "<a href=\"https://colab.research.google.com/github/erolca/3-Phase-Controller/blob/master/Untitled1_ipynb_adl%C4%B1_not_defterinin_kopyas%C4%B1_adl%C4%B1_not_defterinin_kopyas%C4%B1.ipynb\" target=\"_parent\"><img src=\"https://colab.research.google.com/assets/colab-badge.svg\" alt=\"Open In Colab\"/></a>"
      ]
    },
    {
      "cell_type": "markdown",
      "metadata": {
        "id": "aktFlhFezq3D"
      },
      "source": [
        ""
      ]
    },
    {
      "cell_type": "code",
      "metadata": {
        "id": "AjACvH6hzhm7"
      },
      "source": [
        "numList = [2000, 2003, 2005, 2006]\r\n",
        "stringList = [\"Essential\", \"Python\", \"Code\"]\r\n",
        "mixedList = [1, 2, \"three\", 4]\r\n",
        "subList = [\"Python\", \"Phrasebook\", [\"Copyright\", 2006]]\r\n",
        "listList = [numList, stringList, mixedList, subList]"
      ],
      "execution_count": null,
      "outputs": []
    },
    {
      "cell_type": "code",
      "metadata": {
        "id": "kPmPOLXwzpwq",
        "colab": {
          "base_uri": "https://localhost:8080/"
        },
        "outputId": "ac49df6e-ff43-49da-a641-c356bb2c475d"
      },
      "source": [
        "print(numList)"
      ],
      "execution_count": null,
      "outputs": [
        {
          "output_type": "stream",
          "text": [
            "[2000, 2003, 2005, 2006]\n"
          ],
          "name": "stdout"
        }
      ]
    },
    {
      "cell_type": "code",
      "metadata": {
        "id": "luj9Q18wzxs5",
        "colab": {
          "base_uri": "https://localhost:8080/"
        },
        "outputId": "6baf2f7b-bf6c-4006-bc05-b21b61ac8ec5"
      },
      "source": [
        "print(type(mixedList))"
      ],
      "execution_count": null,
      "outputs": [
        {
          "output_type": "stream",
          "text": [
            "<class 'list'>\n"
          ],
          "name": "stdout"
        }
      ]
    },
    {
      "cell_type": "code",
      "metadata": {
        "colab": {
          "base_uri": "https://localhost:8080/"
        },
        "id": "pZgW-apyz18Q",
        "outputId": "da429ce2-c32e-4603-d248-b3a05d1d0100"
      },
      "source": [
        "print(numList)\r\n",
        "print(' \\n');\r\n",
        "print(type(numList))"
      ],
      "execution_count": null,
      "outputs": [
        {
          "output_type": "stream",
          "text": [
            "[2000, 2003, 2005, 2006]\n",
            " \n",
            "\n",
            "<class 'list'>\n"
          ],
          "name": "stdout"
        }
      ]
    },
    {
      "cell_type": "code",
      "metadata": {
        "id": "tNiUuC2F0AOC",
        "colab": {
          "base_uri": "https://localhost:8080/"
        },
        "outputId": "458f055b-f356-4287-a534-c16bf93a2dee"
      },
      "source": [
        "#!/usr/bin/python3\r\n",
        "counter =100 # a integer assigment\r\n",
        "miles=1000.0 #A floating point\r\n",
        "name=\"john\" # astring\r\n",
        "\r\n",
        "print(counter)\r\n",
        "print( miles)\r\n",
        "print(name)"
      ],
      "execution_count": null,
      "outputs": [
        {
          "output_type": "stream",
          "text": [
            "100\n",
            "1000.0\n",
            "john\n"
          ],
          "name": "stdout"
        }
      ]
    },
    {
      "cell_type": "markdown",
      "metadata": {
        "id": "NMh0s8x0CtwG"
      },
      "source": [
        "Python *Strings*"
      ]
    },
    {
      "cell_type": "code",
      "metadata": {
        "colab": {
          "base_uri": "https://localhost:8080/"
        },
        "id": "E868ONGwCnMl",
        "outputId": "5c4e40f1-091c-4f5d-fb58-d3129c9a9f3a"
      },
      "source": [
        "str =\"HelloWorld\"\r\n",
        "print (str)          # Prints complete string\r\n",
        "print (str[0])       # Prints first character of the string\r\n",
        "print (str[2:5])     # Prints characters starting from 3rd to 5th\r\n",
        "print (str[2:])      # Prints string starting from 3rd character\r\n",
        "print (str * 2)      # Prints string two times\r\n",
        "print (str + \"TEST\") # Prints concatenated string"
      ],
      "execution_count": null,
      "outputs": [
        {
          "output_type": "stream",
          "text": [
            "HelloWorld\n",
            "H\n",
            "llo\n",
            "lloWorld\n",
            "HelloWorldHelloWorld\n",
            "HelloWorldTEST\n"
          ],
          "name": "stdout"
        }
      ]
    },
    {
      "cell_type": "markdown",
      "metadata": {
        "id": "5tIHW6HoiZH1"
      },
      "source": [
        "Python Lists\r\n"
      ]
    },
    {
      "cell_type": "code",
      "metadata": {
        "colab": {
          "base_uri": "https://localhost:8080/"
        },
        "id": "8fU3myafiabp",
        "outputId": "34dfa014-dfd5-4e5a-c9b5-85049f69d136"
      },
      "source": [
        "#!/usr/bin/python3\r\n",
        "\r\n",
        "list = [ 'abcd', 786 , 2.23, 'john', 70.2 ]\r\n",
        "tinylist = [123, 'john']\r\n",
        "\r\n",
        "print (list)          # Prints complete list\r\n",
        "print (list[0])       # Prints first element of the list\r\n",
        "print (list[1:3])     # Prints elements starting from 2nd till 3rd \r\n",
        "print (list[2:])      # Prints elements starting from 3rd element\r\n",
        "print (tinylist * 2)  # Prints list two times\r\n",
        "print (list + tinylist) # Prints concatenated lists"
      ],
      "execution_count": null,
      "outputs": [
        {
          "output_type": "stream",
          "text": [
            "['abcd', 786, 2.23, 'john', 70.2]\n",
            "abcd\n",
            "[786, 2.23]\n",
            "[2.23, 'john', 70.2]\n",
            "[123, 'john', 123, 'john']\n",
            "['abcd', 786, 2.23, 'john', 70.2, 123, 'john']\n"
          ],
          "name": "stdout"
        }
      ]
    },
    {
      "cell_type": "markdown",
      "metadata": {
        "id": "DdsVTkXhixcE"
      },
      "source": [
        "Python Tuples\r\n"
      ]
    },
    {
      "cell_type": "code",
      "metadata": {
        "id": "TVcj06Chi02j"
      },
      "source": [
        "#!/usr/bin/python3\r\n",
        "\r\n",
        "tuple = ( 'abcd', 786 , 2.23, 'john', 70.2  )\r\n",
        "tinytuple = (123, 'john')\r\n",
        "\r\n",
        "print (tuple)           # Prints complete tuple\r\n",
        "print (tuple[0])        # Prints first element of the tuple\r\n",
        "print (tuple[1:3])      # Prints elements starting from 2nd till 3rd \r\n",
        "print (tuple[2:])       # Prints elements starting from 3rd element\r\n",
        "print (tinytuple * 2)   # Prints tuple two times\r\n",
        "print (tuple + tinytuple) # Prints concatenated tuple"
      ],
      "execution_count": null,
      "outputs": []
    },
    {
      "cell_type": "markdown",
      "metadata": {
        "id": "L-Nx7phfly1x"
      },
      "source": [
        "**unpack a collection**\r\n",
        "    If you have a collection of values in a list, tuple etc. Python allows you extract the values into variables. This is called unpacking.\r\n",
        "\r\n",
        "\r\n"
      ]
    },
    {
      "cell_type": "code",
      "metadata": {
        "colab": {
          "base_uri": "https://localhost:8080/"
        },
        "id": "E7xCxzD1l2pe",
        "outputId": "3898bb95-93ec-45e0-8b50-26b33497e3eb"
      },
      "source": [
        "fruits =[\"apple\",\"banana\",\"cherry\"]\r\n",
        "x,y,z=fruits\r\n",
        "print(x)\r\n",
        "print(y)\r\n",
        "print(z)"
      ],
      "execution_count": null,
      "outputs": [
        {
          "output_type": "stream",
          "text": [
            "apple\n",
            "banana\n",
            "cherry\n"
          ],
          "name": "stdout"
        }
      ]
    },
    {
      "cell_type": "markdown",
      "metadata": {
        "id": "NIyjKTtTmjwA"
      },
      "source": [
        "Global Variables\r\n"
      ]
    },
    {
      "cell_type": "code",
      "metadata": {
        "colab": {
          "base_uri": "https://localhost:8080/"
        },
        "id": "Y8kf7pCnmkup",
        "outputId": "535eefd1-2c12-4c88-a875-1348551d2084"
      },
      "source": [
        "x = \"awesome\"\r\n",
        "\r\n",
        "def myfunc():\r\n",
        "  x = \"fantastic\"\r\n",
        "  print(\"Python is \" + x)\r\n",
        "\r\n",
        "myfunc()\r\n",
        "\r\n",
        "print(\"Python is \" + x)\r\n"
      ],
      "execution_count": null,
      "outputs": [
        {
          "output_type": "stream",
          "text": [
            "Python is fantastic\n",
            "Python is awesome\n"
          ],
          "name": "stdout"
        }
      ]
    },
    {
      "cell_type": "code",
      "metadata": {
        "colab": {
          "base_uri": "https://localhost:8080/"
        },
        "id": "sbdgshRQqTPx",
        "outputId": "505d2ae7-5173-4fb1-ba9c-bf51d184cedc"
      },
      "source": [
        "import random\r\n",
        "#If you use the global keyword, the variable belongs to the global scope:\r\n",
        "def myfunc():\r\n",
        "  global x\r\n",
        "  x = \"fantastic\"\r\n",
        "\r\n",
        "myfunc()\r\n",
        "\r\n",
        "print(\"Python is \" + x)\r\n",
        "print(random.randrange(1, 10))\r\n"
      ],
      "execution_count": null,
      "outputs": [
        {
          "output_type": "stream",
          "text": [
            "Python is fantastic\n",
            "1\n"
          ],
          "name": "stdout"
        }
      ]
    },
    {
      "cell_type": "code",
      "metadata": {
        "colab": {
          "base_uri": "https://localhost:8080/"
        },
        "id": "Q3REPYFqu4j8",
        "outputId": "94a13645-b6a1-46e0-caa5-d6f267db55d1"
      },
      "source": [
        "#String Length\r\n",
        "a = \"Hello, World!\"\r\n",
        "print(len(a))\r\n",
        "#Check String\r\n",
        "txt = \"The best things in life are free!\"\r\n",
        "print(\"free\" in txt)\r\n"
      ],
      "execution_count": null,
      "outputs": [
        {
          "output_type": "stream",
          "text": [
            "13\n",
            "True\n"
          ],
          "name": "stdout"
        }
      ]
    },
    {
      "cell_type": "code",
      "metadata": {
        "colab": {
          "base_uri": "https://localhost:8080/"
        },
        "id": "YVSCZhDLv_7V",
        "outputId": "e423fbe8-ef90-46f1-f37a-842f084ec416"
      },
      "source": [
        "a=5\r\n",
        "a+=6\r\n",
        "print(a)\r\n",
        "b=7\r\n",
        "c=a!=b #If values of two operands are not equal, then condition becomes true.\r\n",
        "print(c)"
      ],
      "execution_count": null,
      "outputs": [
        {
          "output_type": "stream",
          "text": [
            "11\n",
            "True\n"
          ],
          "name": "stdout"
        }
      ]
    },
    {
      "cell_type": "markdown",
      "metadata": {
        "id": "r84OpHFZxIGV"
      },
      "source": [
        "# Yeni Bölüm"
      ]
    }
  ]
}