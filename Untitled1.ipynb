{
  "nbformat": 4,
  "nbformat_minor": 0,
  "metadata": {
    "colab": {
      "name": "Untitled1.ipynb",
      "provenance": [],
      "authorship_tag": "ABX9TyPZO/+DXOHDtOZbVU9MwS9x",
      "include_colab_link": true
    },
    "kernelspec": {
      "name": "python3",
      "display_name": "Python 3"
    }
  },
  "cells": [
    {
      "cell_type": "markdown",
      "metadata": {
        "id": "view-in-github",
        "colab_type": "text"
      },
      "source": [
        "<a href=\"https://colab.research.google.com/github/erolca/3-Phase-Controller/blob/master/Untitled1.ipynb\" target=\"_parent\"><img src=\"https://colab.research.google.com/assets/colab-badge.svg\" alt=\"Open In Colab\"/></a>"
      ]
    },
    {
      "cell_type": "markdown",
      "metadata": {
        "id": "aktFlhFezq3D"
      },
      "source": [
        ""
      ]
    },
    {
      "cell_type": "code",
      "metadata": {
        "id": "AjACvH6hzhm7"
      },
      "source": [
        "numList = [2000, 2003, 2005, 2006]\r\n",
        "stringList = [\"Essential\", \"Python\", \"Code\"]\r\n",
        "mixedList = [1, 2, \"three\", 4]\r\n",
        "subList = [\"Python\", \"Phrasebook\", [\"Copyright\", 2006]]\r\n",
        "listList = [numList, stringList, mixedList, subList]"
      ],
      "execution_count": 4,
      "outputs": []
    },
    {
      "cell_type": "code",
      "metadata": {
        "id": "kPmPOLXwzpwq"
      },
      "source": [
        "print(numList)"
      ],
      "execution_count": null,
      "outputs": []
    },
    {
      "cell_type": "code",
      "metadata": {
        "id": "luj9Q18wzxs5"
      },
      "source": [
        "print(type(mixedList))"
      ],
      "execution_count": null,
      "outputs": []
    },
    {
      "cell_type": "code",
      "metadata": {
        "colab": {
          "base_uri": "https://localhost:8080/"
        },
        "id": "pZgW-apyz18Q",
        "outputId": "6d3fdb1b-e4d2-4800-84f0-c4e9bc5074cc"
      },
      "source": [
        "print(listList)\r\n",
        "print(' \\n');\r\n",
        "print(type(listList))"
      ],
      "execution_count": 8,
      "outputs": [
        {
          "output_type": "stream",
          "text": [
            "[[2000, 2003, 2005, 2006], ['Essential', 'Python', 'Code'], [1, 2, 'three', 4], ['Python', 'Phrasebook', ['Copyright', 2006]]]\n",
            " \n",
            "\n",
            "<class 'list'>\n"
          ],
          "name": "stdout"
        }
      ]
    },
    {
      "cell_type": "code",
      "metadata": {
        "id": "tNiUuC2F0AOC"
      },
      "source": [
        ""
      ],
      "execution_count": null,
      "outputs": []
    }
  ]
}